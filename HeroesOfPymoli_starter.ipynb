{
 "cells": [
  {
   "cell_type": "markdown",
   "metadata": {},
   "source": [
    "### Heroes Of Pymoli Data Analysis\n",
    "* Of the 1163 active players, the vast majority are male (84%). There also exists, a smaller, but notable proportion of female players (14%).\n",
    "\n",
    "* Our peak age demographic falls between 20-24 (44.8%) with secondary groups falling between 15-19 (18.60%) and 25-29 (13.4%).  \n",
    "-----"
   ]
  },
  {
   "cell_type": "markdown",
   "metadata": {},
   "source": [
    "### Note\n",
    "* Instructions have been included for each segment. You do not have to follow them exactly, but they are included to help you think through the steps."
   ]
  },
  {
   "cell_type": "code",
   "execution_count": 247,
   "metadata": {},
   "outputs": [],
   "source": [
    "# Dependencies and Setup\n",
    "\n",
    "import pandas as pd\n",
    "import numpy as np\n",
    "\n",
    "# File to Load\n",
    "\n",
    "file = \"Resources/purchase_data.csv\"\n",
    "\n",
    "# Read Purchasing File and store into Pandas data frame\n",
    "\n",
    "purchase_data_df = pd.read_csv(file)"
   ]
  },
  {
   "cell_type": "markdown",
   "metadata": {},
   "source": [
    "## Player Count"
   ]
  },
  {
   "cell_type": "markdown",
   "metadata": {},
   "source": [
    "* Display the total number of players\n"
   ]
  },
  {
   "cell_type": "code",
   "execution_count": 248,
   "metadata": {},
   "outputs": [
    {
     "data": {
      "text/html": [
       "<div>\n",
       "<style scoped>\n",
       "    .dataframe tbody tr th:only-of-type {\n",
       "        vertical-align: middle;\n",
       "    }\n",
       "\n",
       "    .dataframe tbody tr th {\n",
       "        vertical-align: top;\n",
       "    }\n",
       "\n",
       "    .dataframe thead th {\n",
       "        text-align: right;\n",
       "    }\n",
       "</style>\n",
       "<table border=\"1\" class=\"dataframe\">\n",
       "  <thead>\n",
       "    <tr style=\"text-align: right;\">\n",
       "      <th></th>\n",
       "      <th>Total Players</th>\n",
       "    </tr>\n",
       "  </thead>\n",
       "  <tbody>\n",
       "    <tr>\n",
       "      <th>0</th>\n",
       "      <td>576</td>\n",
       "    </tr>\n",
       "  </tbody>\n",
       "</table>\n",
       "</div>"
      ],
      "text/plain": [
       "   Total Players\n",
       "0            576"
      ]
     },
     "execution_count": 248,
     "metadata": {},
     "output_type": "execute_result"
    }
   ],
   "source": [
    "# Total Number of Players\n",
    "\n",
    "total_players = purchase_data_df[\"SN\"].nunique()\n",
    "total_players_df = pd.DataFrame({\"Total Players\": [total_players]})\n",
    "total_players_df"
   ]
  },
  {
   "cell_type": "markdown",
   "metadata": {},
   "source": [
    "## Purchasing Analysis (Total)"
   ]
  },
  {
   "cell_type": "markdown",
   "metadata": {},
   "source": [
    "* Run basic calculations to obtain number of unique items, average price, etc.\n",
    "\n",
    "\n",
    "* Create a summary data frame to hold the results\n",
    "\n",
    "\n",
    "* Optional: give the displayed data cleaner formatting\n",
    "\n",
    "\n",
    "* Display the summary data frame\n"
   ]
  },
  {
   "cell_type": "code",
   "execution_count": 249,
   "metadata": {},
   "outputs": [
    {
     "data": {
      "text/html": [
       "<style  type=\"text/css\" >\n",
       "</style><table id=\"T_b4b269be_8ce9_11e9_9b2e_38f9d35396da\" ><thead>    <tr>        <th class=\"blank level0\" ></th>        <th class=\"col_heading level0 col0\" >Number of Unique Items</th>        <th class=\"col_heading level0 col1\" >Average Price</th>        <th class=\"col_heading level0 col2\" >Number of Purchases</th>        <th class=\"col_heading level0 col3\" >Total Revenue</th>    </tr></thead><tbody>\n",
       "                <tr>\n",
       "                        <th id=\"T_b4b269be_8ce9_11e9_9b2e_38f9d35396dalevel0_row0\" class=\"row_heading level0 row0\" >0</th>\n",
       "                        <td id=\"T_b4b269be_8ce9_11e9_9b2e_38f9d35396darow0_col0\" class=\"data row0 col0\" >183</td>\n",
       "                        <td id=\"T_b4b269be_8ce9_11e9_9b2e_38f9d35396darow0_col1\" class=\"data row0 col1\" >$3.05</td>\n",
       "                        <td id=\"T_b4b269be_8ce9_11e9_9b2e_38f9d35396darow0_col2\" class=\"data row0 col2\" >780</td>\n",
       "                        <td id=\"T_b4b269be_8ce9_11e9_9b2e_38f9d35396darow0_col3\" class=\"data row0 col3\" >$2,379.77</td>\n",
       "            </tr>\n",
       "    </tbody></table>"
      ],
      "text/plain": [
       "<pandas.io.formats.style.Styler at 0x120815400>"
      ]
     },
     "execution_count": 249,
     "metadata": {},
     "output_type": "execute_result"
    }
   ],
   "source": [
    "# Purchasing Analysis\n",
    "\n",
    "number_unique_items = purchase_data_df[\"Item ID\"].nunique()\n",
    "average_price = purchase_data_df[\"Price\"].mean()\n",
    "number_purchases = purchase_data_df[\"Purchase ID\"].count()\n",
    "total_revenue = purchase_data_df[\"Price\"].sum()\n",
    "\n",
    "# Purchasing Summary DataFrame\n",
    "\n",
    "purchase_summary_df = pd.DataFrame({\"Number of Unique Items\":[number_unique_items],\n",
    "                                    \"Average Price\":[average_price], \n",
    "                                    \"Number of Purchases\": [number_purchases], \n",
    "                                    \"Total Revenue\": [total_revenue]})\n",
    "\n",
    "purchase_summary_df.style.format({'Average Price':\"${:,.2f}\",\n",
    "                                  'Total Revenue': '${:,.2f}'})"
   ]
  },
  {
   "cell_type": "markdown",
   "metadata": {},
   "source": [
    "## Gender Demographics"
   ]
  },
  {
   "cell_type": "markdown",
   "metadata": {},
   "source": [
    "* Percentage and Count of Male Players\n",
    "\n",
    "\n",
    "* Percentage and Count of Female Players\n",
    "\n",
    "\n",
    "* Percentage and Count of Other / Non-Disclosed\n",
    "\n",
    "\n"
   ]
  },
  {
   "cell_type": "code",
   "execution_count": 250,
   "metadata": {},
   "outputs": [
    {
     "data": {
      "text/html": [
       "<div>\n",
       "<style scoped>\n",
       "    .dataframe tbody tr th:only-of-type {\n",
       "        vertical-align: middle;\n",
       "    }\n",
       "\n",
       "    .dataframe tbody tr th {\n",
       "        vertical-align: top;\n",
       "    }\n",
       "\n",
       "    .dataframe thead th {\n",
       "        text-align: right;\n",
       "    }\n",
       "</style>\n",
       "<table border=\"1\" class=\"dataframe\">\n",
       "  <thead>\n",
       "    <tr style=\"text-align: right;\">\n",
       "      <th></th>\n",
       "      <th>Percentage of Players</th>\n",
       "      <th>Total Count</th>\n",
       "    </tr>\n",
       "  </thead>\n",
       "  <tbody>\n",
       "    <tr>\n",
       "      <th>Male</th>\n",
       "      <td>84.03</td>\n",
       "      <td>484</td>\n",
       "    </tr>\n",
       "    <tr>\n",
       "      <th>Female</th>\n",
       "      <td>14.06</td>\n",
       "      <td>81</td>\n",
       "    </tr>\n",
       "    <tr>\n",
       "      <th>Other / Non-Disclosed</th>\n",
       "      <td>1.91</td>\n",
       "      <td>11</td>\n",
       "    </tr>\n",
       "  </tbody>\n",
       "</table>\n",
       "</div>"
      ],
      "text/plain": [
       "                       Percentage of Players  Total Count\n",
       "Male                                   84.03          484\n",
       "Female                                 14.06           81\n",
       "Other / Non-Disclosed                   1.91           11"
      ]
     },
     "execution_count": 250,
     "metadata": {},
     "output_type": "execute_result"
    }
   ],
   "source": [
    "# Gender Demographics\n",
    "\n",
    "sort_genders = purchase_data_df.groupby(\"Gender\")\n",
    "total_gender = sort_genders.nunique()[\"SN\"]\n",
    "total_gender.head()\n",
    "player_percentage = round((total_gender / total_players)*100,2)\n",
    "\n",
    "# Gender DataFrame\n",
    "\n",
    "gender_df = pd.DataFrame({\"Percentage of Players\": player_percentage, \"Total Count\": total_gender})\n",
    "gender_df.index.name = None\n",
    "gender_df.sort_values([\"Total Count\"], ascending = False)"
   ]
  },
  {
   "cell_type": "markdown",
   "metadata": {},
   "source": [
    "\n",
    "## Purchasing Analysis (Gender)"
   ]
  },
  {
   "cell_type": "markdown",
   "metadata": {},
   "source": [
    "* Run basic calculations to obtain purchase count, avg. purchase price, avg. purchase total per person etc. by gender\n",
    "\n",
    "\n",
    "\n",
    "\n",
    "* Create a summary data frame to hold the results\n",
    "\n",
    "\n",
    "* Optional: give the displayed data cleaner formatting\n",
    "\n",
    "\n",
    "* Display the summary data frame"
   ]
  },
  {
   "cell_type": "code",
   "execution_count": 251,
   "metadata": {},
   "outputs": [
    {
     "data": {
      "text/html": [
       "<style  type=\"text/css\" >\n",
       "</style><table id=\"T_b4b833ee_8ce9_11e9_bd4e_38f9d35396da\" ><thead>    <tr>        <th class=\"blank level0\" ></th>        <th class=\"col_heading level0 col0\" >Purchase Count</th>        <th class=\"col_heading level0 col1\" >Average Purchase Price</th>        <th class=\"col_heading level0 col2\" >Total Purchase Value</th>        <th class=\"col_heading level0 col3\" >Avg Total Purchase per Person</th>    </tr>    <tr>        <th class=\"index_name level0\" >Gender</th>        <th class=\"blank\" ></th>        <th class=\"blank\" ></th>        <th class=\"blank\" ></th>        <th class=\"blank\" ></th>    </tr></thead><tbody>\n",
       "                <tr>\n",
       "                        <th id=\"T_b4b833ee_8ce9_11e9_bd4e_38f9d35396dalevel0_row0\" class=\"row_heading level0 row0\" >Female</th>\n",
       "                        <td id=\"T_b4b833ee_8ce9_11e9_bd4e_38f9d35396darow0_col0\" class=\"data row0 col0\" >113</td>\n",
       "                        <td id=\"T_b4b833ee_8ce9_11e9_bd4e_38f9d35396darow0_col1\" class=\"data row0 col1\" >$3.20</td>\n",
       "                        <td id=\"T_b4b833ee_8ce9_11e9_bd4e_38f9d35396darow0_col2\" class=\"data row0 col2\" >$361.94</td>\n",
       "                        <td id=\"T_b4b833ee_8ce9_11e9_bd4e_38f9d35396darow0_col3\" class=\"data row0 col3\" >$4.47</td>\n",
       "            </tr>\n",
       "            <tr>\n",
       "                        <th id=\"T_b4b833ee_8ce9_11e9_bd4e_38f9d35396dalevel0_row1\" class=\"row_heading level0 row1\" >Male</th>\n",
       "                        <td id=\"T_b4b833ee_8ce9_11e9_bd4e_38f9d35396darow1_col0\" class=\"data row1 col0\" >652</td>\n",
       "                        <td id=\"T_b4b833ee_8ce9_11e9_bd4e_38f9d35396darow1_col1\" class=\"data row1 col1\" >$3.02</td>\n",
       "                        <td id=\"T_b4b833ee_8ce9_11e9_bd4e_38f9d35396darow1_col2\" class=\"data row1 col2\" >$1,967.64</td>\n",
       "                        <td id=\"T_b4b833ee_8ce9_11e9_bd4e_38f9d35396darow1_col3\" class=\"data row1 col3\" >$4.07</td>\n",
       "            </tr>\n",
       "            <tr>\n",
       "                        <th id=\"T_b4b833ee_8ce9_11e9_bd4e_38f9d35396dalevel0_row2\" class=\"row_heading level0 row2\" >Other / Non-Disclosed</th>\n",
       "                        <td id=\"T_b4b833ee_8ce9_11e9_bd4e_38f9d35396darow2_col0\" class=\"data row2 col0\" >15</td>\n",
       "                        <td id=\"T_b4b833ee_8ce9_11e9_bd4e_38f9d35396darow2_col1\" class=\"data row2 col1\" >$3.35</td>\n",
       "                        <td id=\"T_b4b833ee_8ce9_11e9_bd4e_38f9d35396darow2_col2\" class=\"data row2 col2\" >$50.19</td>\n",
       "                        <td id=\"T_b4b833ee_8ce9_11e9_bd4e_38f9d35396darow2_col3\" class=\"data row2 col3\" >$4.56</td>\n",
       "            </tr>\n",
       "    </tbody></table>"
      ],
      "text/plain": [
       "<pandas.io.formats.style.Styler at 0x1207e8e10>"
      ]
     },
     "execution_count": 251,
     "metadata": {},
     "output_type": "execute_result"
    }
   ],
   "source": [
    "# Purchasing Analysis by Gender\n",
    "\n",
    "purchase_count = sort_genders[\"Purchase ID\"].count()\n",
    "avg_purchase_price = sort_genders[\"Price\"].mean()\n",
    "gender_purchase_total = sort_genders[\"Price\"].sum()\n",
    "avg_purchase_per = (avg_purchase_total / total_gender)\n",
    "\n",
    "# Gender Purchasing DataFrame\n",
    "\n",
    "gender_purchasing_df = pd.DataFrame({\"Purchase Count\": purchase_count, \n",
    "                                    \"Average Purchase Price\": avg_purchase_price,\n",
    "                                    \"Total Purchase Value\": gender_purchase_total,\n",
    "                                    \"Avg Total Purchase per Person\": avg_purchase_per})\n",
    "\n",
    "gender_purchasing_df.index.name = \"Gender\"\n",
    "gender_purchasing_df.style.format({\"Average Purchase Price\":\"${:,.2f}\",\n",
    "                                   \"Total Purchase Value\":\"${:,.2f}\",\n",
    "                                   \"Avg Total Purchase per Person\":\"${:,.2f}\"})\n"
   ]
  },
  {
   "cell_type": "markdown",
   "metadata": {},
   "source": [
    "## Age Demographics"
   ]
  },
  {
   "cell_type": "markdown",
   "metadata": {},
   "source": [
    "* Establish bins for ages\n",
    "\n",
    "\n",
    "* Categorize the existing players using the age bins. Hint: use pd.cut()\n",
    "\n",
    "\n",
    "* Calculate the numbers and percentages by age group\n",
    "\n",
    "\n",
    "* Create a summary data frame to hold the results\n",
    "\n",
    "\n",
    "* Optional: round the percentage column to two decimal points\n",
    "\n",
    "\n",
    "* Display Age Demographics Table\n"
   ]
  },
  {
   "cell_type": "code",
   "execution_count": 252,
   "metadata": {},
   "outputs": [
    {
     "data": {
      "text/html": [
       "<div>\n",
       "<style scoped>\n",
       "    .dataframe tbody tr th:only-of-type {\n",
       "        vertical-align: middle;\n",
       "    }\n",
       "\n",
       "    .dataframe tbody tr th {\n",
       "        vertical-align: top;\n",
       "    }\n",
       "\n",
       "    .dataframe thead th {\n",
       "        text-align: right;\n",
       "    }\n",
       "</style>\n",
       "<table border=\"1\" class=\"dataframe\">\n",
       "  <thead>\n",
       "    <tr style=\"text-align: right;\">\n",
       "      <th></th>\n",
       "      <th>Percentage of Players</th>\n",
       "      <th>Total Count</th>\n",
       "    </tr>\n",
       "  </thead>\n",
       "  <tbody>\n",
       "    <tr>\n",
       "      <th>&lt;10</th>\n",
       "      <td>2.95</td>\n",
       "      <td>17</td>\n",
       "    </tr>\n",
       "    <tr>\n",
       "      <th>10-14</th>\n",
       "      <td>3.82</td>\n",
       "      <td>22</td>\n",
       "    </tr>\n",
       "    <tr>\n",
       "      <th>15-19</th>\n",
       "      <td>18.58</td>\n",
       "      <td>107</td>\n",
       "    </tr>\n",
       "    <tr>\n",
       "      <th>20-24</th>\n",
       "      <td>44.79</td>\n",
       "      <td>258</td>\n",
       "    </tr>\n",
       "    <tr>\n",
       "      <th>25-29</th>\n",
       "      <td>13.37</td>\n",
       "      <td>77</td>\n",
       "    </tr>\n",
       "    <tr>\n",
       "      <th>30-34</th>\n",
       "      <td>9.03</td>\n",
       "      <td>52</td>\n",
       "    </tr>\n",
       "    <tr>\n",
       "      <th>35-39</th>\n",
       "      <td>5.38</td>\n",
       "      <td>31</td>\n",
       "    </tr>\n",
       "    <tr>\n",
       "      <th>40+</th>\n",
       "      <td>2.08</td>\n",
       "      <td>12</td>\n",
       "    </tr>\n",
       "  </tbody>\n",
       "</table>\n",
       "</div>"
      ],
      "text/plain": [
       "       Percentage of Players  Total Count\n",
       "<10                     2.95           17\n",
       "10-14                   3.82           22\n",
       "15-19                  18.58          107\n",
       "20-24                  44.79          258\n",
       "25-29                  13.37           77\n",
       "30-34                   9.03           52\n",
       "35-39                   5.38           31\n",
       "40+                     2.08           12"
      ]
     },
     "execution_count": 252,
     "metadata": {},
     "output_type": "execute_result"
    }
   ],
   "source": [
    "# Age Demographics\n",
    "\n",
    "# Creating and Sorting Bins\n",
    "\n",
    "age_bins = [0, 9.5, 14.5, 19.5, 24.5, 29.5, 34.5, 39.5, 999]\n",
    "group_names = [\"<10\", \"10-14\", \"15-19\", \"20-24\", \"25-29\", \"30-34\", \"35-39\", \"40+\"]\n",
    "purchase_data_df[\"Age Group\"] = pd.cut(purchase_data_df[\"Age\"],age_bins, labels=group_names)\n",
    "\n",
    "groupedbyage = purchase_data_df.groupby(\"Age Group\")\n",
    "\n",
    "# Count and Percentage Caculations\n",
    "\n",
    "total_count_age = groupedbyage[\"SN\"].nunique()\n",
    "age_percentage = round((total_count_age / total_players)*100,2)\n",
    "\n",
    "# Age DataFrame\n",
    "\n",
    "age_df = pd.DataFrame({\"Percentage of Players\": age_percentage, \"Total Count\": total_count_age})\n",
    "age_df.index.name = None\n",
    "age_df"
   ]
  },
  {
   "cell_type": "markdown",
   "metadata": {},
   "source": [
    "## Purchasing Analysis (Age)"
   ]
  },
  {
   "cell_type": "markdown",
   "metadata": {},
   "source": [
    "* Bin the purchase_data data frame by age\n",
    "\n",
    "\n",
    "* Run basic calculations to obtain purchase count, avg. purchase price, avg. purchase total per person etc. in the table below\n",
    "\n",
    "\n",
    "* Create a summary data frame to hold the results\n",
    "\n",
    "\n",
    "* Optional: give the displayed data cleaner formatting\n",
    "\n",
    "\n",
    "* Display the summary data frame"
   ]
  },
  {
   "cell_type": "code",
   "execution_count": 253,
   "metadata": {},
   "outputs": [
    {
     "data": {
      "text/html": [
       "<style  type=\"text/css\" >\n",
       "</style><table id=\"T_b4bf9cba_8ce9_11e9_a181_38f9d35396da\" ><thead>    <tr>        <th class=\"blank level0\" ></th>        <th class=\"col_heading level0 col0\" >Purchase Count</th>        <th class=\"col_heading level0 col1\" >Average Purchase Price</th>        <th class=\"col_heading level0 col2\" >Total Purchase Value</th>        <th class=\"col_heading level0 col3\" >Average Total Purchase per Person</th>    </tr></thead><tbody>\n",
       "                <tr>\n",
       "                        <th id=\"T_b4bf9cba_8ce9_11e9_a181_38f9d35396dalevel0_row0\" class=\"row_heading level0 row0\" ><10</th>\n",
       "                        <td id=\"T_b4bf9cba_8ce9_11e9_a181_38f9d35396darow0_col0\" class=\"data row0 col0\" >23</td>\n",
       "                        <td id=\"T_b4bf9cba_8ce9_11e9_a181_38f9d35396darow0_col1\" class=\"data row0 col1\" >$3.35</td>\n",
       "                        <td id=\"T_b4bf9cba_8ce9_11e9_a181_38f9d35396darow0_col2\" class=\"data row0 col2\" >$77.13</td>\n",
       "                        <td id=\"T_b4bf9cba_8ce9_11e9_a181_38f9d35396darow0_col3\" class=\"data row0 col3\" >$4.54</td>\n",
       "            </tr>\n",
       "            <tr>\n",
       "                        <th id=\"T_b4bf9cba_8ce9_11e9_a181_38f9d35396dalevel0_row1\" class=\"row_heading level0 row1\" >10-14</th>\n",
       "                        <td id=\"T_b4bf9cba_8ce9_11e9_a181_38f9d35396darow1_col0\" class=\"data row1 col0\" >28</td>\n",
       "                        <td id=\"T_b4bf9cba_8ce9_11e9_a181_38f9d35396darow1_col1\" class=\"data row1 col1\" >$2.96</td>\n",
       "                        <td id=\"T_b4bf9cba_8ce9_11e9_a181_38f9d35396darow1_col2\" class=\"data row1 col2\" >$82.78</td>\n",
       "                        <td id=\"T_b4bf9cba_8ce9_11e9_a181_38f9d35396darow1_col3\" class=\"data row1 col3\" >$3.76</td>\n",
       "            </tr>\n",
       "            <tr>\n",
       "                        <th id=\"T_b4bf9cba_8ce9_11e9_a181_38f9d35396dalevel0_row2\" class=\"row_heading level0 row2\" >15-19</th>\n",
       "                        <td id=\"T_b4bf9cba_8ce9_11e9_a181_38f9d35396darow2_col0\" class=\"data row2 col0\" >136</td>\n",
       "                        <td id=\"T_b4bf9cba_8ce9_11e9_a181_38f9d35396darow2_col1\" class=\"data row2 col1\" >$3.04</td>\n",
       "                        <td id=\"T_b4bf9cba_8ce9_11e9_a181_38f9d35396darow2_col2\" class=\"data row2 col2\" >$412.89</td>\n",
       "                        <td id=\"T_b4bf9cba_8ce9_11e9_a181_38f9d35396darow2_col3\" class=\"data row2 col3\" >$3.86</td>\n",
       "            </tr>\n",
       "            <tr>\n",
       "                        <th id=\"T_b4bf9cba_8ce9_11e9_a181_38f9d35396dalevel0_row3\" class=\"row_heading level0 row3\" >20-24</th>\n",
       "                        <td id=\"T_b4bf9cba_8ce9_11e9_a181_38f9d35396darow3_col0\" class=\"data row3 col0\" >365</td>\n",
       "                        <td id=\"T_b4bf9cba_8ce9_11e9_a181_38f9d35396darow3_col1\" class=\"data row3 col1\" >$3.05</td>\n",
       "                        <td id=\"T_b4bf9cba_8ce9_11e9_a181_38f9d35396darow3_col2\" class=\"data row3 col2\" >$1,114.06</td>\n",
       "                        <td id=\"T_b4bf9cba_8ce9_11e9_a181_38f9d35396darow3_col3\" class=\"data row3 col3\" >$4.32</td>\n",
       "            </tr>\n",
       "            <tr>\n",
       "                        <th id=\"T_b4bf9cba_8ce9_11e9_a181_38f9d35396dalevel0_row4\" class=\"row_heading level0 row4\" >25-29</th>\n",
       "                        <td id=\"T_b4bf9cba_8ce9_11e9_a181_38f9d35396darow4_col0\" class=\"data row4 col0\" >101</td>\n",
       "                        <td id=\"T_b4bf9cba_8ce9_11e9_a181_38f9d35396darow4_col1\" class=\"data row4 col1\" >$2.90</td>\n",
       "                        <td id=\"T_b4bf9cba_8ce9_11e9_a181_38f9d35396darow4_col2\" class=\"data row4 col2\" >$293.00</td>\n",
       "                        <td id=\"T_b4bf9cba_8ce9_11e9_a181_38f9d35396darow4_col3\" class=\"data row4 col3\" >$3.81</td>\n",
       "            </tr>\n",
       "            <tr>\n",
       "                        <th id=\"T_b4bf9cba_8ce9_11e9_a181_38f9d35396dalevel0_row5\" class=\"row_heading level0 row5\" >30-34</th>\n",
       "                        <td id=\"T_b4bf9cba_8ce9_11e9_a181_38f9d35396darow5_col0\" class=\"data row5 col0\" >73</td>\n",
       "                        <td id=\"T_b4bf9cba_8ce9_11e9_a181_38f9d35396darow5_col1\" class=\"data row5 col1\" >$2.93</td>\n",
       "                        <td id=\"T_b4bf9cba_8ce9_11e9_a181_38f9d35396darow5_col2\" class=\"data row5 col2\" >$214.00</td>\n",
       "                        <td id=\"T_b4bf9cba_8ce9_11e9_a181_38f9d35396darow5_col3\" class=\"data row5 col3\" >$4.12</td>\n",
       "            </tr>\n",
       "            <tr>\n",
       "                        <th id=\"T_b4bf9cba_8ce9_11e9_a181_38f9d35396dalevel0_row6\" class=\"row_heading level0 row6\" >35-39</th>\n",
       "                        <td id=\"T_b4bf9cba_8ce9_11e9_a181_38f9d35396darow6_col0\" class=\"data row6 col0\" >41</td>\n",
       "                        <td id=\"T_b4bf9cba_8ce9_11e9_a181_38f9d35396darow6_col1\" class=\"data row6 col1\" >$3.60</td>\n",
       "                        <td id=\"T_b4bf9cba_8ce9_11e9_a181_38f9d35396darow6_col2\" class=\"data row6 col2\" >$147.67</td>\n",
       "                        <td id=\"T_b4bf9cba_8ce9_11e9_a181_38f9d35396darow6_col3\" class=\"data row6 col3\" >$4.76</td>\n",
       "            </tr>\n",
       "            <tr>\n",
       "                        <th id=\"T_b4bf9cba_8ce9_11e9_a181_38f9d35396dalevel0_row7\" class=\"row_heading level0 row7\" >40+</th>\n",
       "                        <td id=\"T_b4bf9cba_8ce9_11e9_a181_38f9d35396darow7_col0\" class=\"data row7 col0\" >13</td>\n",
       "                        <td id=\"T_b4bf9cba_8ce9_11e9_a181_38f9d35396darow7_col1\" class=\"data row7 col1\" >$2.94</td>\n",
       "                        <td id=\"T_b4bf9cba_8ce9_11e9_a181_38f9d35396darow7_col2\" class=\"data row7 col2\" >$38.24</td>\n",
       "                        <td id=\"T_b4bf9cba_8ce9_11e9_a181_38f9d35396darow7_col3\" class=\"data row7 col3\" >$3.19</td>\n",
       "            </tr>\n",
       "    </tbody></table>"
      ],
      "text/plain": [
       "<pandas.io.formats.style.Styler at 0x1207f5518>"
      ]
     },
     "execution_count": 253,
     "metadata": {},
     "output_type": "execute_result"
    }
   ],
   "source": [
    "# Purchasing Analysis by Age\n",
    "\n",
    "purchase_count_age = groupedbyage[\"Purchase ID\"].count()\n",
    "avg_purchase_price_age = groupedbyage[\"Price\"].mean()\n",
    "age_purchase_total = groupedbyage[\"Price\"].sum()\n",
    "avg_purchase_per_age = avg_purchase_total_age / total_count_age\n",
    "\n",
    "# Create data frame with obtained values\n",
    "\n",
    "age_purchasing_df = pd.DataFrame({\"Purchase Count\": purchase_count_age,\n",
    "                                 \"Average Purchase Price\": avg_purchase_price_age,\n",
    "                                 \"Total Purchase Value\": age_purchase_total,\n",
    "                                 \"Average Total Purchase per Person\": avg_purchase_per_age})\n",
    "\n",
    "age_purchasing_df.index.name = None\n",
    "\n",
    "age_purchasing_df.style.format({\"Average Purchase Price\":\"${:,.2f}\",\n",
    "                               \"Total Purchase Value\":\"${:,.2f}\",\n",
    "                               \"Average Total Purchase per Person\":\"${:,.2f}\"})\n"
   ]
  },
  {
   "cell_type": "markdown",
   "metadata": {},
   "source": [
    "## Top Spenders"
   ]
  },
  {
   "cell_type": "markdown",
   "metadata": {},
   "source": [
    "* Run basic calculations to obtain the results in the table below\n",
    "\n",
    "\n",
    "* Create a summary data frame to hold the results\n",
    "\n",
    "\n",
    "* Sort the total purchase value column in descending order\n",
    "\n",
    "\n",
    "* Optional: give the displayed data cleaner formatting\n",
    "\n",
    "\n",
    "* Display a preview of the summary data frame\n",
    "\n"
   ]
  },
  {
   "cell_type": "code",
   "execution_count": 254,
   "metadata": {},
   "outputs": [
    {
     "data": {
      "text/html": [
       "<style  type=\"text/css\" >\n",
       "</style><table id=\"T_b4c28cae_8ce9_11e9_b044_38f9d35396da\" ><thead>    <tr>        <th class=\"blank level0\" ></th>        <th class=\"col_heading level0 col0\" >Purchase Count</th>        <th class=\"col_heading level0 col1\" >Average Purchase Price</th>        <th class=\"col_heading level0 col2\" >Total Purchase Value</th>    </tr>    <tr>        <th class=\"index_name level0\" >SN</th>        <th class=\"blank\" ></th>        <th class=\"blank\" ></th>        <th class=\"blank\" ></th>    </tr></thead><tbody>\n",
       "                <tr>\n",
       "                        <th id=\"T_b4c28cae_8ce9_11e9_b044_38f9d35396dalevel0_row0\" class=\"row_heading level0 row0\" >Lisosia93</th>\n",
       "                        <td id=\"T_b4c28cae_8ce9_11e9_b044_38f9d35396darow0_col0\" class=\"data row0 col0\" >5</td>\n",
       "                        <td id=\"T_b4c28cae_8ce9_11e9_b044_38f9d35396darow0_col1\" class=\"data row0 col1\" >$3.79</td>\n",
       "                        <td id=\"T_b4c28cae_8ce9_11e9_b044_38f9d35396darow0_col2\" class=\"data row0 col2\" >$18.96</td>\n",
       "            </tr>\n",
       "            <tr>\n",
       "                        <th id=\"T_b4c28cae_8ce9_11e9_b044_38f9d35396dalevel0_row1\" class=\"row_heading level0 row1\" >Idastidru52</th>\n",
       "                        <td id=\"T_b4c28cae_8ce9_11e9_b044_38f9d35396darow1_col0\" class=\"data row1 col0\" >4</td>\n",
       "                        <td id=\"T_b4c28cae_8ce9_11e9_b044_38f9d35396darow1_col1\" class=\"data row1 col1\" >$3.86</td>\n",
       "                        <td id=\"T_b4c28cae_8ce9_11e9_b044_38f9d35396darow1_col2\" class=\"data row1 col2\" >$15.45</td>\n",
       "            </tr>\n",
       "            <tr>\n",
       "                        <th id=\"T_b4c28cae_8ce9_11e9_b044_38f9d35396dalevel0_row2\" class=\"row_heading level0 row2\" >Chamjask73</th>\n",
       "                        <td id=\"T_b4c28cae_8ce9_11e9_b044_38f9d35396darow2_col0\" class=\"data row2 col0\" >3</td>\n",
       "                        <td id=\"T_b4c28cae_8ce9_11e9_b044_38f9d35396darow2_col1\" class=\"data row2 col1\" >$4.61</td>\n",
       "                        <td id=\"T_b4c28cae_8ce9_11e9_b044_38f9d35396darow2_col2\" class=\"data row2 col2\" >$13.83</td>\n",
       "            </tr>\n",
       "            <tr>\n",
       "                        <th id=\"T_b4c28cae_8ce9_11e9_b044_38f9d35396dalevel0_row3\" class=\"row_heading level0 row3\" >Iral74</th>\n",
       "                        <td id=\"T_b4c28cae_8ce9_11e9_b044_38f9d35396darow3_col0\" class=\"data row3 col0\" >4</td>\n",
       "                        <td id=\"T_b4c28cae_8ce9_11e9_b044_38f9d35396darow3_col1\" class=\"data row3 col1\" >$3.40</td>\n",
       "                        <td id=\"T_b4c28cae_8ce9_11e9_b044_38f9d35396darow3_col2\" class=\"data row3 col2\" >$13.62</td>\n",
       "            </tr>\n",
       "            <tr>\n",
       "                        <th id=\"T_b4c28cae_8ce9_11e9_b044_38f9d35396dalevel0_row4\" class=\"row_heading level0 row4\" >Iskadarya95</th>\n",
       "                        <td id=\"T_b4c28cae_8ce9_11e9_b044_38f9d35396darow4_col0\" class=\"data row4 col0\" >3</td>\n",
       "                        <td id=\"T_b4c28cae_8ce9_11e9_b044_38f9d35396darow4_col1\" class=\"data row4 col1\" >$4.37</td>\n",
       "                        <td id=\"T_b4c28cae_8ce9_11e9_b044_38f9d35396darow4_col2\" class=\"data row4 col2\" >$13.10</td>\n",
       "            </tr>\n",
       "    </tbody></table>"
      ],
      "text/plain": [
       "<pandas.io.formats.style.Styler at 0x1204fdc50>"
      ]
     },
     "execution_count": 254,
     "metadata": {},
     "output_type": "execute_result"
    }
   ],
   "source": [
    "# Spender Stats\n",
    "\n",
    "sort_spenders = purchase_data_df.groupby(\"SN\")\n",
    "\n",
    "purchase_count_spender = sort_spenders[\"Purchase ID\"].count()\n",
    "avg_purchase_price_spender = sort_spenders[\"Price\"].mean()\n",
    "spender_purchase_total = sort_spenders[\"Price\"].sum()\n",
    "\n",
    "# Spender DataFrame\n",
    "\n",
    "top_spenders = pd.DataFrame({\"Purchase Count\": purchase_count_spender,\n",
    "                             \"Average Purchase Price\": avg_purchase_price_spender,\n",
    "                             \"Total Purchase Value\": spender_purchase_total})\n",
    "\n",
    "formatted_spenders = top_spenders.sort_values([\"Total Purchase Value\"], ascending=False).head()\n",
    "formatted_spenders.style.format({\"Average Purchase Total\":\"${:,.2f}\",\n",
    "                                 \"Average Purchase Price\":\"${:,.2f}\", \n",
    "                                 \"Total Purchase Value\":\"${:,.2f}\"})"
   ]
  },
  {
   "cell_type": "markdown",
   "metadata": {},
   "source": [
    "## Most Popular Items"
   ]
  },
  {
   "cell_type": "markdown",
   "metadata": {},
   "source": [
    "* Retrieve the Item ID, Item Name, and Item Price columns\n",
    "\n",
    "\n",
    "* Group by Item ID and Item Name. Perform calculations to obtain purchase count, item price, and total purchase value\n",
    "\n",
    "\n",
    "* Create a summary data frame to hold the results\n",
    "\n",
    "\n",
    "* Sort the purchase count column in descending order\n",
    "\n",
    "\n",
    "* Optional: give the displayed data cleaner formatting\n",
    "\n",
    "\n",
    "* Display a preview of the summary data frame\n",
    "\n"
   ]
  },
  {
   "cell_type": "code",
   "execution_count": 255,
   "metadata": {},
   "outputs": [
    {
     "data": {
      "text/html": [
       "<style  type=\"text/css\" >\n",
       "</style><table id=\"T_b4c65fa8_8ce9_11e9_85d4_38f9d35396da\" ><thead>    <tr>        <th class=\"blank\" ></th>        <th class=\"blank level0\" ></th>        <th class=\"col_heading level0 col0\" >Purchase Count</th>        <th class=\"col_heading level0 col1\" >Item Price</th>        <th class=\"col_heading level0 col2\" >Total Purchase Value</th>    </tr>    <tr>        <th class=\"index_name level0\" >Item ID</th>        <th class=\"index_name level1\" >Item Name</th>        <th class=\"blank\" ></th>        <th class=\"blank\" ></th>        <th class=\"blank\" ></th>    </tr></thead><tbody>\n",
       "                <tr>\n",
       "                        <th id=\"T_b4c65fa8_8ce9_11e9_85d4_38f9d35396dalevel0_row0\" class=\"row_heading level0 row0\" >178</th>\n",
       "                        <th id=\"T_b4c65fa8_8ce9_11e9_85d4_38f9d35396dalevel1_row0\" class=\"row_heading level1 row0\" >Oathbreaker, Last Hope of the Breaking Storm</th>\n",
       "                        <td id=\"T_b4c65fa8_8ce9_11e9_85d4_38f9d35396darow0_col0\" class=\"data row0 col0\" >12</td>\n",
       "                        <td id=\"T_b4c65fa8_8ce9_11e9_85d4_38f9d35396darow0_col1\" class=\"data row0 col1\" >$4.23</td>\n",
       "                        <td id=\"T_b4c65fa8_8ce9_11e9_85d4_38f9d35396darow0_col2\" class=\"data row0 col2\" >$50.76</td>\n",
       "            </tr>\n",
       "            <tr>\n",
       "                        <th id=\"T_b4c65fa8_8ce9_11e9_85d4_38f9d35396dalevel0_row1\" class=\"row_heading level0 row1\" >145</th>\n",
       "                        <th id=\"T_b4c65fa8_8ce9_11e9_85d4_38f9d35396dalevel1_row1\" class=\"row_heading level1 row1\" >Fiery Glass Crusader</th>\n",
       "                        <td id=\"T_b4c65fa8_8ce9_11e9_85d4_38f9d35396darow1_col0\" class=\"data row1 col0\" >9</td>\n",
       "                        <td id=\"T_b4c65fa8_8ce9_11e9_85d4_38f9d35396darow1_col1\" class=\"data row1 col1\" >$4.58</td>\n",
       "                        <td id=\"T_b4c65fa8_8ce9_11e9_85d4_38f9d35396darow1_col2\" class=\"data row1 col2\" >$41.22</td>\n",
       "            </tr>\n",
       "            <tr>\n",
       "                        <th id=\"T_b4c65fa8_8ce9_11e9_85d4_38f9d35396dalevel0_row2\" class=\"row_heading level0 row2\" >108</th>\n",
       "                        <th id=\"T_b4c65fa8_8ce9_11e9_85d4_38f9d35396dalevel1_row2\" class=\"row_heading level1 row2\" >Extraction, Quickblade Of Trembling Hands</th>\n",
       "                        <td id=\"T_b4c65fa8_8ce9_11e9_85d4_38f9d35396darow2_col0\" class=\"data row2 col0\" >9</td>\n",
       "                        <td id=\"T_b4c65fa8_8ce9_11e9_85d4_38f9d35396darow2_col1\" class=\"data row2 col1\" >$3.53</td>\n",
       "                        <td id=\"T_b4c65fa8_8ce9_11e9_85d4_38f9d35396darow2_col2\" class=\"data row2 col2\" >$31.77</td>\n",
       "            </tr>\n",
       "            <tr>\n",
       "                        <th id=\"T_b4c65fa8_8ce9_11e9_85d4_38f9d35396dalevel0_row3\" class=\"row_heading level0 row3\" >82</th>\n",
       "                        <th id=\"T_b4c65fa8_8ce9_11e9_85d4_38f9d35396dalevel1_row3\" class=\"row_heading level1 row3\" >Nirvana</th>\n",
       "                        <td id=\"T_b4c65fa8_8ce9_11e9_85d4_38f9d35396darow3_col0\" class=\"data row3 col0\" >9</td>\n",
       "                        <td id=\"T_b4c65fa8_8ce9_11e9_85d4_38f9d35396darow3_col1\" class=\"data row3 col1\" >$4.90</td>\n",
       "                        <td id=\"T_b4c65fa8_8ce9_11e9_85d4_38f9d35396darow3_col2\" class=\"data row3 col2\" >$44.10</td>\n",
       "            </tr>\n",
       "            <tr>\n",
       "                        <th id=\"T_b4c65fa8_8ce9_11e9_85d4_38f9d35396dalevel0_row4\" class=\"row_heading level0 row4\" >19</th>\n",
       "                        <th id=\"T_b4c65fa8_8ce9_11e9_85d4_38f9d35396dalevel1_row4\" class=\"row_heading level1 row4\" >Pursuit, Cudgel of Necromancy</th>\n",
       "                        <td id=\"T_b4c65fa8_8ce9_11e9_85d4_38f9d35396darow4_col0\" class=\"data row4 col0\" >8</td>\n",
       "                        <td id=\"T_b4c65fa8_8ce9_11e9_85d4_38f9d35396darow4_col1\" class=\"data row4 col1\" >$1.02</td>\n",
       "                        <td id=\"T_b4c65fa8_8ce9_11e9_85d4_38f9d35396darow4_col2\" class=\"data row4 col2\" >$8.16</td>\n",
       "            </tr>\n",
       "    </tbody></table>"
      ],
      "text/plain": [
       "<pandas.io.formats.style.Styler at 0x120694f98>"
      ]
     },
     "execution_count": 255,
     "metadata": {},
     "output_type": "execute_result"
    }
   ],
   "source": [
    "# Item Dataframe\n",
    "\n",
    "items_df = purchase_data_df[[\"Item ID\", \"Item Name\", \"Price\"]]\n",
    "items_sort_df = items_df.groupby([\"Item ID\",\"Item Name\"])\n",
    "\n",
    "# Item Calculations\n",
    "\n",
    "purchase_count_item = items_sort_df[\"Price\"].count()\n",
    "purchase_value_item = items_sort_df[\"Price\"].sum() \n",
    "item_price = purchase_value_item / purchase_count_item\n",
    "\n",
    "# Most Popular Items DataFrame\n",
    "\n",
    "popular_items_df = pd.DataFrame({\"Purchase Count\": purchase_count_item, \n",
    "                                   \"Item Price\": item_price,\n",
    "                                   \"Total Purchase Value\":purchase_value_item})\n",
    "\n",
    "most_popular_df = popular_items_df.sort_values([\"Purchase Count\"], ascending=False).head()\n",
    "\n",
    "most_popular_df.style.format({\"Item Price\":\"${:,.2f}\",\n",
    "                                \"Total Purchase Value\":\"${:,.2f}\"})"
   ]
  },
  {
   "cell_type": "markdown",
   "metadata": {},
   "source": [
    "## Most Profitable Items"
   ]
  },
  {
   "cell_type": "markdown",
   "metadata": {},
   "source": [
    "* Sort the above table by total purchase value in descending order\n",
    "\n",
    "\n",
    "* Optional: give the displayed data cleaner formatting\n",
    "\n",
    "\n",
    "* Display a preview of the data frame\n",
    "\n"
   ]
  },
  {
   "cell_type": "code",
   "execution_count": 256,
   "metadata": {
    "scrolled": true
   },
   "outputs": [
    {
     "data": {
      "text/html": [
       "<style  type=\"text/css\" >\n",
       "</style><table id=\"T_b4c7ff90_8ce9_11e9_80a2_38f9d35396da\" ><thead>    <tr>        <th class=\"blank\" ></th>        <th class=\"blank level0\" ></th>        <th class=\"col_heading level0 col0\" >Purchase Count</th>        <th class=\"col_heading level0 col1\" >Item Price</th>        <th class=\"col_heading level0 col2\" >Total Purchase Value</th>    </tr>    <tr>        <th class=\"index_name level0\" >Item ID</th>        <th class=\"index_name level1\" >Item Name</th>        <th class=\"blank\" ></th>        <th class=\"blank\" ></th>        <th class=\"blank\" ></th>    </tr></thead><tbody>\n",
       "                <tr>\n",
       "                        <th id=\"T_b4c7ff90_8ce9_11e9_80a2_38f9d35396dalevel0_row0\" class=\"row_heading level0 row0\" >178</th>\n",
       "                        <th id=\"T_b4c7ff90_8ce9_11e9_80a2_38f9d35396dalevel1_row0\" class=\"row_heading level1 row0\" >Oathbreaker, Last Hope of the Breaking Storm</th>\n",
       "                        <td id=\"T_b4c7ff90_8ce9_11e9_80a2_38f9d35396darow0_col0\" class=\"data row0 col0\" >12</td>\n",
       "                        <td id=\"T_b4c7ff90_8ce9_11e9_80a2_38f9d35396darow0_col1\" class=\"data row0 col1\" >$4.23</td>\n",
       "                        <td id=\"T_b4c7ff90_8ce9_11e9_80a2_38f9d35396darow0_col2\" class=\"data row0 col2\" >$50.76</td>\n",
       "            </tr>\n",
       "            <tr>\n",
       "                        <th id=\"T_b4c7ff90_8ce9_11e9_80a2_38f9d35396dalevel0_row1\" class=\"row_heading level0 row1\" >82</th>\n",
       "                        <th id=\"T_b4c7ff90_8ce9_11e9_80a2_38f9d35396dalevel1_row1\" class=\"row_heading level1 row1\" >Nirvana</th>\n",
       "                        <td id=\"T_b4c7ff90_8ce9_11e9_80a2_38f9d35396darow1_col0\" class=\"data row1 col0\" >9</td>\n",
       "                        <td id=\"T_b4c7ff90_8ce9_11e9_80a2_38f9d35396darow1_col1\" class=\"data row1 col1\" >$4.90</td>\n",
       "                        <td id=\"T_b4c7ff90_8ce9_11e9_80a2_38f9d35396darow1_col2\" class=\"data row1 col2\" >$44.10</td>\n",
       "            </tr>\n",
       "            <tr>\n",
       "                        <th id=\"T_b4c7ff90_8ce9_11e9_80a2_38f9d35396dalevel0_row2\" class=\"row_heading level0 row2\" >145</th>\n",
       "                        <th id=\"T_b4c7ff90_8ce9_11e9_80a2_38f9d35396dalevel1_row2\" class=\"row_heading level1 row2\" >Fiery Glass Crusader</th>\n",
       "                        <td id=\"T_b4c7ff90_8ce9_11e9_80a2_38f9d35396darow2_col0\" class=\"data row2 col0\" >9</td>\n",
       "                        <td id=\"T_b4c7ff90_8ce9_11e9_80a2_38f9d35396darow2_col1\" class=\"data row2 col1\" >$4.58</td>\n",
       "                        <td id=\"T_b4c7ff90_8ce9_11e9_80a2_38f9d35396darow2_col2\" class=\"data row2 col2\" >$41.22</td>\n",
       "            </tr>\n",
       "            <tr>\n",
       "                        <th id=\"T_b4c7ff90_8ce9_11e9_80a2_38f9d35396dalevel0_row3\" class=\"row_heading level0 row3\" >92</th>\n",
       "                        <th id=\"T_b4c7ff90_8ce9_11e9_80a2_38f9d35396dalevel1_row3\" class=\"row_heading level1 row3\" >Final Critic</th>\n",
       "                        <td id=\"T_b4c7ff90_8ce9_11e9_80a2_38f9d35396darow3_col0\" class=\"data row3 col0\" >8</td>\n",
       "                        <td id=\"T_b4c7ff90_8ce9_11e9_80a2_38f9d35396darow3_col1\" class=\"data row3 col1\" >$4.88</td>\n",
       "                        <td id=\"T_b4c7ff90_8ce9_11e9_80a2_38f9d35396darow3_col2\" class=\"data row3 col2\" >$39.04</td>\n",
       "            </tr>\n",
       "            <tr>\n",
       "                        <th id=\"T_b4c7ff90_8ce9_11e9_80a2_38f9d35396dalevel0_row4\" class=\"row_heading level0 row4\" >103</th>\n",
       "                        <th id=\"T_b4c7ff90_8ce9_11e9_80a2_38f9d35396dalevel1_row4\" class=\"row_heading level1 row4\" >Singed Scalpel</th>\n",
       "                        <td id=\"T_b4c7ff90_8ce9_11e9_80a2_38f9d35396darow4_col0\" class=\"data row4 col0\" >8</td>\n",
       "                        <td id=\"T_b4c7ff90_8ce9_11e9_80a2_38f9d35396darow4_col1\" class=\"data row4 col1\" >$4.35</td>\n",
       "                        <td id=\"T_b4c7ff90_8ce9_11e9_80a2_38f9d35396darow4_col2\" class=\"data row4 col2\" >$34.80</td>\n",
       "            </tr>\n",
       "    </tbody></table>"
      ],
      "text/plain": [
       "<pandas.io.formats.style.Styler at 0x120810ef0>"
      ]
     },
     "execution_count": 256,
     "metadata": {},
     "output_type": "execute_result"
    }
   ],
   "source": [
    "# Most Profitable DF\n",
    "\n",
    "most_profitable_df = popular_items_df.sort_values([\"Total Purchase Value\"],ascending=False).head()\n",
    "\n",
    "most_profitable_df.style.format({\"Item Price\":\"${:,.2f}\",\n",
    "                                 \"Total Purchase Value\":\"${:,.2f}\"})"
   ]
  },
  {
   "cell_type": "code",
   "execution_count": 257,
   "metadata": {},
   "outputs": [],
   "source": [
    "# You must include a written description of three observable trends based on the data."
   ]
  }
 ],
 "metadata": {
  "anaconda-cloud": {},
  "kernel_info": {
   "name": "python3"
  },
  "kernelspec": {
   "display_name": "Python 3",
   "language": "python",
   "name": "python3"
  },
  "language_info": {
   "codemirror_mode": {
    "name": "ipython",
    "version": 3
   },
   "file_extension": ".py",
   "mimetype": "text/x-python",
   "name": "python",
   "nbconvert_exporter": "python",
   "pygments_lexer": "ipython3",
   "version": "3.6.8"
  },
  "nteract": {
   "version": "0.2.0"
  }
 },
 "nbformat": 4,
 "nbformat_minor": 2
}
